{
 "cells": [
  {
   "cell_type": "code",
   "execution_count": 6,
   "metadata": {},
   "outputs": [],
   "source": [
    "import pandas as pd\n",
    "import numpy as np\n",
    "import requests\n",
    "from datetime import datetime\n",
    "import urllib.parse\n",
    "import re"
   ]
  },
  {
   "cell_type": "code",
   "execution_count": 18,
   "metadata": {},
   "outputs": [],
   "source": [
    "now = datetime.now()"
   ]
  },
  {
   "cell_type": "markdown",
   "metadata": {},
   "source": [
    "# Checking pandas version\n",
    "make sure it is 1.4.0 above"
   ]
  },
  {
   "cell_type": "code",
   "execution_count": 19,
   "metadata": {},
   "outputs": [
    {
     "data": {
      "text/plain": [
       "'1.4.1'"
      ]
     },
     "execution_count": 19,
     "metadata": {},
     "output_type": "execute_result"
    }
   ],
   "source": [
    "pd.__version__"
   ]
  },
  {
   "cell_type": "markdown",
   "metadata": {},
   "source": [
    "## - Getting data from API\n",
    "It might varies depend on your server, but basically is just to load the list of data into dataframe"
   ]
  },
  {
   "cell_type": "code",
   "execution_count": 20,
   "metadata": {},
   "outputs": [
    {
     "data": {
      "text/html": [
       "<div>\n",
       "<style scoped>\n",
       "    .dataframe tbody tr th:only-of-type {\n",
       "        vertical-align: middle;\n",
       "    }\n",
       "\n",
       "    .dataframe tbody tr th {\n",
       "        vertical-align: top;\n",
       "    }\n",
       "\n",
       "    .dataframe thead th {\n",
       "        text-align: right;\n",
       "    }\n",
       "</style>\n",
       "<table border=\"1\" class=\"dataframe\">\n",
       "  <thead>\n",
       "    <tr style=\"text-align: right;\">\n",
       "      <th></th>\n",
       "      <th>id</th>\n",
       "      <th>name</th>\n",
       "      <th>year</th>\n",
       "      <th>color</th>\n",
       "      <th>pantone_value</th>\n",
       "    </tr>\n",
       "  </thead>\n",
       "  <tbody>\n",
       "    <tr>\n",
       "      <th>0</th>\n",
       "      <td>1</td>\n",
       "      <td>cerulean</td>\n",
       "      <td>2000</td>\n",
       "      <td>#98B2D1</td>\n",
       "      <td>15-4020</td>\n",
       "    </tr>\n",
       "    <tr>\n",
       "      <th>1</th>\n",
       "      <td>2</td>\n",
       "      <td>fuchsia rose</td>\n",
       "      <td>2001</td>\n",
       "      <td>#C74375</td>\n",
       "      <td>17-2031</td>\n",
       "    </tr>\n",
       "    <tr>\n",
       "      <th>2</th>\n",
       "      <td>3</td>\n",
       "      <td>true red</td>\n",
       "      <td>2002</td>\n",
       "      <td>#BF1932</td>\n",
       "      <td>19-1664</td>\n",
       "    </tr>\n",
       "    <tr>\n",
       "      <th>3</th>\n",
       "      <td>4</td>\n",
       "      <td>aqua sky</td>\n",
       "      <td>2003</td>\n",
       "      <td>#7BC4C4</td>\n",
       "      <td>14-4811</td>\n",
       "    </tr>\n",
       "    <tr>\n",
       "      <th>4</th>\n",
       "      <td>5</td>\n",
       "      <td>tigerlily</td>\n",
       "      <td>2004</td>\n",
       "      <td>#E2583E</td>\n",
       "      <td>17-1456</td>\n",
       "    </tr>\n",
       "    <tr>\n",
       "      <th>5</th>\n",
       "      <td>6</td>\n",
       "      <td>blue turquoise</td>\n",
       "      <td>2005</td>\n",
       "      <td>#53B0AE</td>\n",
       "      <td>15-5217</td>\n",
       "    </tr>\n",
       "  </tbody>\n",
       "</table>\n",
       "</div>"
      ],
      "text/plain": [
       "   id            name  year    color pantone_value\n",
       "0   1        cerulean  2000  #98B2D1       15-4020\n",
       "1   2    fuchsia rose  2001  #C74375       17-2031\n",
       "2   3        true red  2002  #BF1932       19-1664\n",
       "3   4        aqua sky  2003  #7BC4C4       14-4811\n",
       "4   5       tigerlily  2004  #E2583E       17-1456\n",
       "5   6  blue turquoise  2005  #53B0AE       15-5217"
      ]
     },
     "execution_count": 20,
     "metadata": {},
     "output_type": "execute_result"
    }
   ],
   "source": [
    "r = requests.get(\"https://reqres.in/api/products\")\n",
    "j = r.json()[\"data\"]\n",
    "\n",
    "df = pd.DataFrame.from_dict(j)\n",
    "df"
   ]
  },
  {
   "cell_type": "markdown",
   "metadata": {},
   "source": [
    "## - Generate dynamic list\n",
    "Here i use the header https://aipharm.xyz/ as my header. I would like to do a pattern of https://aipharm.xyz/<products>/<id>/<product-name> \n",
    "    \n",
    "Since the product is update monthly, I will put a priority of 0.6 and changefred of monthly"
   ]
  },
  {
   "cell_type": "code",
   "execution_count": 22,
   "metadata": {},
   "outputs": [],
   "source": [
    "def returnURL(name,id,type):\n",
    "    pattern = re.compile(r\"[^\\w\\s]\")\n",
    "    url_name = pattern.sub(\"\", name)\n",
    "#     print(url_name)\n",
    "    url_name = url_name.lower().replace(\" \",\"-\")\n",
    "    url = \"https://aipharm.xyz/\"+type+\"/\"+str(id)+\"/\"+urllib.parse.quote(url_name)\n",
    "    return url\n",
    "\n",
    "df[\"loc\"] = df.apply(lambda x: returnURL(x[\"name\"],x[\"id\"],\"products\"),axis=1)\n",
    "df[\"lastmod\"] = now.strftime(\"%Y-%m-%d\")\n",
    "df[\"changefreq\"] = \"monthly\"\n",
    "df[\"priority\"] = 0.6"
   ]
  },
  {
   "cell_type": "code",
   "execution_count": 23,
   "metadata": {},
   "outputs": [
    {
     "data": {
      "text/html": [
       "<div>\n",
       "<style scoped>\n",
       "    .dataframe tbody tr th:only-of-type {\n",
       "        vertical-align: middle;\n",
       "    }\n",
       "\n",
       "    .dataframe tbody tr th {\n",
       "        vertical-align: top;\n",
       "    }\n",
       "\n",
       "    .dataframe thead th {\n",
       "        text-align: right;\n",
       "    }\n",
       "</style>\n",
       "<table border=\"1\" class=\"dataframe\">\n",
       "  <thead>\n",
       "    <tr style=\"text-align: right;\">\n",
       "      <th></th>\n",
       "      <th>loc</th>\n",
       "      <th>lastmod</th>\n",
       "      <th>changefreq</th>\n",
       "      <th>priority</th>\n",
       "    </tr>\n",
       "  </thead>\n",
       "  <tbody>\n",
       "    <tr>\n",
       "      <th>0</th>\n",
       "      <td>https://aipharm.xyz/products/1/cerulean</td>\n",
       "      <td>2022-03-03</td>\n",
       "      <td>monthly</td>\n",
       "      <td>0.6</td>\n",
       "    </tr>\n",
       "    <tr>\n",
       "      <th>1</th>\n",
       "      <td>https://aipharm.xyz/products/2/fuchsia-rose</td>\n",
       "      <td>2022-03-03</td>\n",
       "      <td>monthly</td>\n",
       "      <td>0.6</td>\n",
       "    </tr>\n",
       "    <tr>\n",
       "      <th>2</th>\n",
       "      <td>https://aipharm.xyz/products/3/true-red</td>\n",
       "      <td>2022-03-03</td>\n",
       "      <td>monthly</td>\n",
       "      <td>0.6</td>\n",
       "    </tr>\n",
       "    <tr>\n",
       "      <th>3</th>\n",
       "      <td>https://aipharm.xyz/products/4/aqua-sky</td>\n",
       "      <td>2022-03-03</td>\n",
       "      <td>monthly</td>\n",
       "      <td>0.6</td>\n",
       "    </tr>\n",
       "    <tr>\n",
       "      <th>4</th>\n",
       "      <td>https://aipharm.xyz/products/5/tigerlily</td>\n",
       "      <td>2022-03-03</td>\n",
       "      <td>monthly</td>\n",
       "      <td>0.6</td>\n",
       "    </tr>\n",
       "    <tr>\n",
       "      <th>5</th>\n",
       "      <td>https://aipharm.xyz/products/6/blue-turquoise</td>\n",
       "      <td>2022-03-03</td>\n",
       "      <td>monthly</td>\n",
       "      <td>0.6</td>\n",
       "    </tr>\n",
       "  </tbody>\n",
       "</table>\n",
       "</div>"
      ],
      "text/plain": [
       "                                             loc     lastmod changefreq  \\\n",
       "0        https://aipharm.xyz/products/1/cerulean  2022-03-03    monthly   \n",
       "1    https://aipharm.xyz/products/2/fuchsia-rose  2022-03-03    monthly   \n",
       "2        https://aipharm.xyz/products/3/true-red  2022-03-03    monthly   \n",
       "3        https://aipharm.xyz/products/4/aqua-sky  2022-03-03    monthly   \n",
       "4       https://aipharm.xyz/products/5/tigerlily  2022-03-03    monthly   \n",
       "5  https://aipharm.xyz/products/6/blue-turquoise  2022-03-03    monthly   \n",
       "\n",
       "   priority  \n",
       "0       0.6  \n",
       "1       0.6  \n",
       "2       0.6  \n",
       "3       0.6  \n",
       "4       0.6  \n",
       "5       0.6  "
      ]
     },
     "execution_count": 23,
     "metadata": {},
     "output_type": "execute_result"
    }
   ],
   "source": [
    "df = df.reindex(columns=[\"loc\",\"lastmod\",\"changefreq\",\"priority\"])\n",
    "df"
   ]
  },
  {
   "cell_type": "markdown",
   "metadata": {},
   "source": [
    "# - Generate static list\n",
    "simply put any pages that you require here"
   ]
  },
  {
   "cell_type": "code",
   "execution_count": 25,
   "metadata": {},
   "outputs": [
    {
     "name": "stderr",
     "output_type": "stream",
     "text": [
      "<ipython-input-25-7eea81e01e32>:2: FutureWarning: The frame.append method is deprecated and will be removed from pandas in a future version. Use pandas.concat instead.\n",
      "  df_main = df_main.append(pd.DataFrame(columns=[\"loc\",\"lastmod\",\"changefreq\",\"priority\"], data=[[\"https://aipharm.xyz\",now.strftime(\"%Y-%m-%d\"),\"daily\",1.0]]))\n",
      "<ipython-input-25-7eea81e01e32>:6: FutureWarning: The frame.append method is deprecated and will be removed from pandas in a future version. Use pandas.concat instead.\n",
      "  df_main = df_main.append(pd.DataFrame(columns=[\"loc\",\"lastmod\",\"changefreq\",\"priority\"], data=[[\"https://aipharm.xyz/\"+i,now.strftime(\"%Y-%m-%d\"),\"daily\",1.0]]))\n",
      "<ipython-input-25-7eea81e01e32>:6: FutureWarning: The frame.append method is deprecated and will be removed from pandas in a future version. Use pandas.concat instead.\n",
      "  df_main = df_main.append(pd.DataFrame(columns=[\"loc\",\"lastmod\",\"changefreq\",\"priority\"], data=[[\"https://aipharm.xyz/\"+i,now.strftime(\"%Y-%m-%d\"),\"daily\",1.0]]))\n",
      "<ipython-input-25-7eea81e01e32>:6: FutureWarning: The frame.append method is deprecated and will be removed from pandas in a future version. Use pandas.concat instead.\n",
      "  df_main = df_main.append(pd.DataFrame(columns=[\"loc\",\"lastmod\",\"changefreq\",\"priority\"], data=[[\"https://aipharm.xyz/\"+i,now.strftime(\"%Y-%m-%d\"),\"daily\",1.0]]))\n"
     ]
    },
    {
     "data": {
      "text/html": [
       "<div>\n",
       "<style scoped>\n",
       "    .dataframe tbody tr th:only-of-type {\n",
       "        vertical-align: middle;\n",
       "    }\n",
       "\n",
       "    .dataframe tbody tr th {\n",
       "        vertical-align: top;\n",
       "    }\n",
       "\n",
       "    .dataframe thead th {\n",
       "        text-align: right;\n",
       "    }\n",
       "</style>\n",
       "<table border=\"1\" class=\"dataframe\">\n",
       "  <thead>\n",
       "    <tr style=\"text-align: right;\">\n",
       "      <th></th>\n",
       "      <th>loc</th>\n",
       "      <th>lastmod</th>\n",
       "      <th>changefreq</th>\n",
       "      <th>priority</th>\n",
       "    </tr>\n",
       "  </thead>\n",
       "  <tbody>\n",
       "    <tr>\n",
       "      <th>0</th>\n",
       "      <td>https://aipharm.xyz</td>\n",
       "      <td>2022-03-03</td>\n",
       "      <td>daily</td>\n",
       "      <td>1.0</td>\n",
       "    </tr>\n",
       "    <tr>\n",
       "      <th>0</th>\n",
       "      <td>https://aipharm.xyz/page1</td>\n",
       "      <td>2022-03-03</td>\n",
       "      <td>daily</td>\n",
       "      <td>1.0</td>\n",
       "    </tr>\n",
       "    <tr>\n",
       "      <th>0</th>\n",
       "      <td>https://aipharm.xyz/page2</td>\n",
       "      <td>2022-03-03</td>\n",
       "      <td>daily</td>\n",
       "      <td>1.0</td>\n",
       "    </tr>\n",
       "    <tr>\n",
       "      <th>0</th>\n",
       "      <td>https://aipharm.xyz/page3</td>\n",
       "      <td>2022-03-03</td>\n",
       "      <td>daily</td>\n",
       "      <td>1.0</td>\n",
       "    </tr>\n",
       "  </tbody>\n",
       "</table>\n",
       "</div>"
      ],
      "text/plain": [
       "                         loc     lastmod changefreq priority\n",
       "0        https://aipharm.xyz  2022-03-03      daily      1.0\n",
       "0  https://aipharm.xyz/page1  2022-03-03      daily      1.0\n",
       "0  https://aipharm.xyz/page2  2022-03-03      daily      1.0\n",
       "0  https://aipharm.xyz/page3  2022-03-03      daily      1.0"
      ]
     },
     "execution_count": 25,
     "metadata": {},
     "output_type": "execute_result"
    }
   ],
   "source": [
    "df_main = pd.DataFrame(columns=[\"loc\",\"lastmod\",\"changefreq\",\"priority\"], data=[])\n",
    "df_main = df_main.append(pd.DataFrame(columns=[\"loc\",\"lastmod\",\"changefreq\",\"priority\"], data=[[\"https://aipharm.xyz\",now.strftime(\"%Y-%m-%d\"),\"daily\",1.0]]))\n",
    "\n",
    "array_list = [\"page1\",\"page2\",\"page3\"]\n",
    "for i in array_list:\n",
    "    df_main = df_main.append(pd.DataFrame(columns=[\"loc\",\"lastmod\",\"changefreq\",\"priority\"], data=[[\"https://aipharm.xyz/\"+i,now.strftime(\"%Y-%m-%d\"),\"daily\",1.0]]))\n",
    "\n",
    "df_main"
   ]
  },
  {
   "cell_type": "markdown",
   "metadata": {},
   "source": [
    "# - Combine both list\n",
    "combine both static and dynamic list into 1 dataframe, remember to drop index"
   ]
  },
  {
   "cell_type": "code",
   "execution_count": 26,
   "metadata": {},
   "outputs": [
    {
     "name": "stderr",
     "output_type": "stream",
     "text": [
      "<ipython-input-26-1c9df817a35d>:1: FutureWarning: The frame.append method is deprecated and will be removed from pandas in a future version. Use pandas.concat instead.\n",
      "  df_final = df_main.append(df)\n"
     ]
    },
    {
     "data": {
      "text/html": [
       "<div>\n",
       "<style scoped>\n",
       "    .dataframe tbody tr th:only-of-type {\n",
       "        vertical-align: middle;\n",
       "    }\n",
       "\n",
       "    .dataframe tbody tr th {\n",
       "        vertical-align: top;\n",
       "    }\n",
       "\n",
       "    .dataframe thead th {\n",
       "        text-align: right;\n",
       "    }\n",
       "</style>\n",
       "<table border=\"1\" class=\"dataframe\">\n",
       "  <thead>\n",
       "    <tr style=\"text-align: right;\">\n",
       "      <th></th>\n",
       "      <th>loc</th>\n",
       "      <th>lastmod</th>\n",
       "      <th>changefreq</th>\n",
       "      <th>priority</th>\n",
       "    </tr>\n",
       "  </thead>\n",
       "  <tbody>\n",
       "    <tr>\n",
       "      <th>0</th>\n",
       "      <td>https://aipharm.xyz</td>\n",
       "      <td>2022-03-03</td>\n",
       "      <td>daily</td>\n",
       "      <td>1.0</td>\n",
       "    </tr>\n",
       "    <tr>\n",
       "      <th>1</th>\n",
       "      <td>https://aipharm.xyz/page1</td>\n",
       "      <td>2022-03-03</td>\n",
       "      <td>daily</td>\n",
       "      <td>1.0</td>\n",
       "    </tr>\n",
       "    <tr>\n",
       "      <th>2</th>\n",
       "      <td>https://aipharm.xyz/page2</td>\n",
       "      <td>2022-03-03</td>\n",
       "      <td>daily</td>\n",
       "      <td>1.0</td>\n",
       "    </tr>\n",
       "    <tr>\n",
       "      <th>3</th>\n",
       "      <td>https://aipharm.xyz/page3</td>\n",
       "      <td>2022-03-03</td>\n",
       "      <td>daily</td>\n",
       "      <td>1.0</td>\n",
       "    </tr>\n",
       "    <tr>\n",
       "      <th>4</th>\n",
       "      <td>https://aipharm.xyz/products/1/cerulean</td>\n",
       "      <td>2022-03-03</td>\n",
       "      <td>monthly</td>\n",
       "      <td>0.6</td>\n",
       "    </tr>\n",
       "    <tr>\n",
       "      <th>5</th>\n",
       "      <td>https://aipharm.xyz/products/2/fuchsia-rose</td>\n",
       "      <td>2022-03-03</td>\n",
       "      <td>monthly</td>\n",
       "      <td>0.6</td>\n",
       "    </tr>\n",
       "    <tr>\n",
       "      <th>6</th>\n",
       "      <td>https://aipharm.xyz/products/3/true-red</td>\n",
       "      <td>2022-03-03</td>\n",
       "      <td>monthly</td>\n",
       "      <td>0.6</td>\n",
       "    </tr>\n",
       "    <tr>\n",
       "      <th>7</th>\n",
       "      <td>https://aipharm.xyz/products/4/aqua-sky</td>\n",
       "      <td>2022-03-03</td>\n",
       "      <td>monthly</td>\n",
       "      <td>0.6</td>\n",
       "    </tr>\n",
       "    <tr>\n",
       "      <th>8</th>\n",
       "      <td>https://aipharm.xyz/products/5/tigerlily</td>\n",
       "      <td>2022-03-03</td>\n",
       "      <td>monthly</td>\n",
       "      <td>0.6</td>\n",
       "    </tr>\n",
       "    <tr>\n",
       "      <th>9</th>\n",
       "      <td>https://aipharm.xyz/products/6/blue-turquoise</td>\n",
       "      <td>2022-03-03</td>\n",
       "      <td>monthly</td>\n",
       "      <td>0.6</td>\n",
       "    </tr>\n",
       "  </tbody>\n",
       "</table>\n",
       "</div>"
      ],
      "text/plain": [
       "                                             loc     lastmod changefreq  \\\n",
       "0                            https://aipharm.xyz  2022-03-03      daily   \n",
       "1                      https://aipharm.xyz/page1  2022-03-03      daily   \n",
       "2                      https://aipharm.xyz/page2  2022-03-03      daily   \n",
       "3                      https://aipharm.xyz/page3  2022-03-03      daily   \n",
       "4        https://aipharm.xyz/products/1/cerulean  2022-03-03    monthly   \n",
       "5    https://aipharm.xyz/products/2/fuchsia-rose  2022-03-03    monthly   \n",
       "6        https://aipharm.xyz/products/3/true-red  2022-03-03    monthly   \n",
       "7        https://aipharm.xyz/products/4/aqua-sky  2022-03-03    monthly   \n",
       "8       https://aipharm.xyz/products/5/tigerlily  2022-03-03    monthly   \n",
       "9  https://aipharm.xyz/products/6/blue-turquoise  2022-03-03    monthly   \n",
       "\n",
       "  priority  \n",
       "0      1.0  \n",
       "1      1.0  \n",
       "2      1.0  \n",
       "3      1.0  \n",
       "4      0.6  \n",
       "5      0.6  \n",
       "6      0.6  \n",
       "7      0.6  \n",
       "8      0.6  \n",
       "9      0.6  "
      ]
     },
     "execution_count": 26,
     "metadata": {},
     "output_type": "execute_result"
    }
   ],
   "source": [
    "df_final = df_main.append(df)\n",
    "df_final = df_final.reset_index(drop=True)\n",
    "df_final"
   ]
  },
  {
   "cell_type": "markdown",
   "metadata": {},
   "source": [
    "## - Export it out as XML sitemap\n",
    "Thats how easy we can make a XML sitemap out from pandas"
   ]
  },
  {
   "cell_type": "code",
   "execution_count": 27,
   "metadata": {},
   "outputs": [],
   "source": [
    "df_final.to_xml(\"sitemap.xml\" ,\n",
    "                index=False,\n",
    "                root_name='urlset',\n",
    "                row_name='url',\n",
    "                namespaces= {\"\": \"http://www.sitemaps.org/schemas/sitemap/0.9\"})  "
   ]
  },
  {
   "cell_type": "markdown",
   "metadata": {},
   "source": [
    "## BONUS: Github upload"
   ]
  },
  {
   "cell_type": "code",
   "execution_count": null,
   "metadata": {},
   "outputs": [],
   "source": [
    "from github import Github\n",
    "\n",
    "# using an access token\n",
    "g = Github(\"XXXXXXXX\")\n",
    "repo = g.get_repo(\"xxxx/medium_article\")\n",
    "with open('sitemap.xml', 'r') as file:\n",
    "    content = file.read()\n",
    "    \n",
    "contents = repo.get_contents(\"public/sitemap.xml\")\n",
    "repo.update_file(\"public/sitemap.xml\", \"update sitemap\", content, contents.sha, branch=\"main\")"
   ]
  }
 ],
 "metadata": {
  "kernelspec": {
   "display_name": "Python 3",
   "language": "python",
   "name": "python3"
  },
  "language_info": {
   "codemirror_mode": {
    "name": "ipython",
    "version": 3
   },
   "file_extension": ".py",
   "mimetype": "text/x-python",
   "name": "python",
   "nbconvert_exporter": "python",
   "pygments_lexer": "ipython3",
   "version": "3.8.8"
  }
 },
 "nbformat": 4,
 "nbformat_minor": 4
}
