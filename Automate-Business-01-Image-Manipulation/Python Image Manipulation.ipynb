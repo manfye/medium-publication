{
 "cells": [
  {
   "cell_type": "markdown",
   "metadata": {},
   "source": [
    "# 01. Setting up Different Image Dimension\n"
   ]
  },
  {
   "cell_type": "code",
   "execution_count": 48,
   "metadata": {},
   "outputs": [],
   "source": [
    "from PIL import Image\n",
    "import os, sys"
   ]
  },
  {
   "cell_type": "code",
   "execution_count": 54,
   "metadata": {},
   "outputs": [],
   "source": [
    "path = \"images/\"\n",
    "dirs = os.listdir(path)"
   ]
  },
  {
   "cell_type": "code",
   "execution_count": 50,
   "metadata": {},
   "outputs": [],
   "source": [
    "new_image_height = 500\n",
    "new_image_width = 500\n",
    "\n",
    "def resize_aspect_fit():\n",
    "    for item in dirs:\n",
    "        if os.path.isfile(path+item):\n",
    "                print(item)\n",
    "                image = Image.open(path+item)\n",
    "                file_path, extension = os.path.splitext(path+item)\n",
    "                imResize = image.resize((new_image_height,new_image_width), Image.ANTIALIAS)\n",
    "                imResize.save(file_path+ '-resized'+str(new_image_height)+\"-\"+str(new_image_width)+'.jpg', 'JPEG', quality=90)"
   ]
  },
  {
   "cell_type": "code",
   "execution_count": 52,
   "metadata": {
    "scrolled": true
   },
   "outputs": [
    {
     "name": "stdout",
     "output_type": "stream",
     "text": [
      "product1.jpg\n",
      "product2.jpg\n",
      "product3.jpg\n",
      "product4.jpg\n",
      "product5.jpg\n"
     ]
    }
   ],
   "source": [
    "resize_aspect_fit()"
   ]
  },
  {
   "cell_type": "markdown",
   "metadata": {},
   "source": [
    "# 02. Watermarking Product Photos\n"
   ]
  },
  {
   "cell_type": "code",
   "execution_count": 97,
   "metadata": {},
   "outputs": [],
   "source": [
    "from PIL import Image, ImageDraw, ImageFont, ImageFilter"
   ]
  },
  {
   "cell_type": "code",
   "execution_count": 98,
   "metadata": {},
   "outputs": [],
   "source": [
    "path = \"images/\"\n",
    "dirs = os.listdir(path)"
   ]
  },
  {
   "cell_type": "code",
   "execution_count": 146,
   "metadata": {},
   "outputs": [],
   "source": [
    "new_image_height = 500\n",
    "new_image_width = 500\n",
    "\n",
    "def watermark():\n",
    "    for item in dirs:\n",
    "        if os.path.isfile(path+item):\n",
    "                watermark = Image.open(\"Watermark/watermark.png\").resize((150,150), Image.ANTIALIAS)               \n",
    "                print(item)\n",
    "                image = Image.open(path+item).resize((new_image_height, new_image_width), Image.ANTIALIAS)\n",
    "                image.paste(watermark,(350,350),watermark)\n",
    "                file_path, extension = os.path.splitext(path+item)\n",
    "                image.save(file_path+ '-watermarked'+'.jpg', 'JPEG', quality=90)"
   ]
  },
  {
   "cell_type": "code",
   "execution_count": 147,
   "metadata": {},
   "outputs": [
    {
     "name": "stdout",
     "output_type": "stream",
     "text": [
      "product1.jpg\n",
      "product2.jpg\n",
      "product3.jpg\n",
      "product4.jpg\n",
      "product5.jpg\n"
     ]
    }
   ],
   "source": [
    "watermark()"
   ]
  },
  {
   "cell_type": "markdown",
   "metadata": {},
   "source": [
    "# 03. Product Frame Generation"
   ]
  },
  {
   "cell_type": "code",
   "execution_count": 55,
   "metadata": {},
   "outputs": [],
   "source": [
    "from PIL import Image, ImageDraw, ImageFont\n",
    "import pandas as pd"
   ]
  },
  {
   "cell_type": "code",
   "execution_count": 58,
   "metadata": {},
   "outputs": [],
   "source": [
    "dfProduct = pd.read_csv(\"productList.csv\")\n"
   ]
  },
  {
   "cell_type": "code",
   "execution_count": 59,
   "metadata": {},
   "outputs": [
    {
     "data": {
      "text/html": [
       "<div>\n",
       "<style scoped>\n",
       "    .dataframe tbody tr th:only-of-type {\n",
       "        vertical-align: middle;\n",
       "    }\n",
       "\n",
       "    .dataframe tbody tr th {\n",
       "        vertical-align: top;\n",
       "    }\n",
       "\n",
       "    .dataframe thead th {\n",
       "        text-align: right;\n",
       "    }\n",
       "</style>\n",
       "<table border=\"1\" class=\"dataframe\">\n",
       "  <thead>\n",
       "    <tr style=\"text-align: right;\">\n",
       "      <th></th>\n",
       "      <th>ID</th>\n",
       "      <th>Name</th>\n",
       "      <th>Price</th>\n",
       "    </tr>\n",
       "  </thead>\n",
       "  <tbody>\n",
       "    <tr>\n",
       "      <th>0</th>\n",
       "      <td>0</td>\n",
       "      <td>product1</td>\n",
       "      <td>50</td>\n",
       "    </tr>\n",
       "    <tr>\n",
       "      <th>1</th>\n",
       "      <td>1</td>\n",
       "      <td>product2</td>\n",
       "      <td>70</td>\n",
       "    </tr>\n",
       "  </tbody>\n",
       "</table>\n",
       "</div>"
      ],
      "text/plain": [
       "   ID      Name  Price\n",
       "0   0  product1     50\n",
       "1   1  product2     70"
      ]
     },
     "execution_count": 59,
     "metadata": {},
     "output_type": "execute_result"
    }
   ],
   "source": [
    "dfProduct"
   ]
  },
  {
   "cell_type": "code",
   "execution_count": 104,
   "metadata": {},
   "outputs": [],
   "source": [
    "records = dfProduct.to_dict(orient='record')\n"
   ]
  },
  {
   "cell_type": "code",
   "execution_count": 124,
   "metadata": {},
   "outputs": [],
   "source": [
    "font = ImageFont.truetype(\"OpenSans-Semibold.ttf\", size=65)\n"
   ]
  },
  {
   "cell_type": "code",
   "execution_count": 133,
   "metadata": {},
   "outputs": [],
   "source": [
    "def generate_card(data):\n",
    "    template = Image.open(\"Frame/frame.png\")\n",
    "    pic = Image.open(f\"Images/{data['Name']}.jpg\").resize((380, 380), Image.ANTIALIAS)\n",
    "    template.paste(pic,(130,90))\n",
    "    draw = ImageDraw.Draw(template)\n",
    "    draw.text((120, 380), data['Name'].upper(), font=font, fill='black')\n",
    "    draw.text((250, 485), \"RM \"+str(data['Price']),  font=font, fill='white')\n",
    "    return template"
   ]
  },
  {
   "cell_type": "code",
   "execution_count": 134,
   "metadata": {},
   "outputs": [],
   "source": [
    "for record in records:\n",
    "    card = generate_card(record)\n",
    "    card.save(f\"Generated/{record['Name']}.png\")"
   ]
  },
  {
   "cell_type": "markdown",
   "metadata": {},
   "source": [
    "# Thank you very much"
   ]
  }
 ],
 "metadata": {
  "kernelspec": {
   "display_name": "Python 3",
   "language": "python",
   "name": "python3"
  },
  "language_info": {
   "codemirror_mode": {
    "name": "ipython",
    "version": 3
   },
   "file_extension": ".py",
   "mimetype": "text/x-python",
   "name": "python",
   "nbconvert_exporter": "python",
   "pygments_lexer": "ipython3",
   "version": "3.8.3"
  }
 },
 "nbformat": 4,
 "nbformat_minor": 4
}
